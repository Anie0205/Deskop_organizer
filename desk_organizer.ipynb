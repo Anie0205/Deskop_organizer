{
 "cells": [
  {
   "cell_type": "code",
   "execution_count": 1,
   "id": "1f36efa0",
   "metadata": {},
   "outputs": [],
   "source": [
    "import os\n",
    "import shutil"
   ]
  },
  {
   "cell_type": "code",
   "execution_count": 2,
   "id": "d3a02742",
   "metadata": {},
   "outputs": [
    {
     "data": {
      "text/plain": [
       "'C:\\\\Users\\\\anany/Desktop'"
      ]
     },
     "execution_count": 2,
     "metadata": {},
     "output_type": "execute_result"
    }
   ],
   "source": [
    "desktop_path = os.path.expanduser(\"~/Desktop\")\n",
    "desktop_path"
   ]
  },
  {
   "cell_type": "code",
   "execution_count": 3,
   "id": "999786fc",
   "metadata": {},
   "outputs": [
    {
     "data": {
      "text/plain": [
       "['ACFrOgChOIpwkU3F3rsbbTU3eJdg6gZL4bo0izNRNMCct_Sm5ZUm_Vehy8SrxmB5mbrnsFQnunziUH9sEP45uLFEtR9CQ5F8_MMRjsY_EB4gI56E-vfBs9f_k1lMu7WwIEDA1P77aiq5rm3nRVnD.pdf',\n",
       " 'Ananya - Chrome.lnk',\n",
       " 'Anie',\n",
       " 'Application - Diptee Verma 1.pdf',\n",
       " 'Application - Diptee Verma 2.pdf',\n",
       " 'Application - Diptee Verma.docx',\n",
       " 'Application - Diptee Verma.pdf',\n",
       " 'Application - Diptee Verma[1].docx',\n",
       " 'Application_-_Diptee_Verma[1][2].docx',\n",
       " 'Arduino IDE.lnk',\n",
       " 'bipt.pdf',\n",
       " 'blue pastel.docx',\n",
       " 'Bot Framework Emulator (V4).lnk',\n",
       " 'c',\n",
       " 'Canva.lnk',\n",
       " 'Dada Pics',\n",
       " 'desktop.ini',\n",
       " 'Diptee.jpg',\n",
       " 'Downloads - Shortcut.lnk',\n",
       " 'dummytext.txt',\n",
       " 'Final paper ananya verma(1).docx',\n",
       " 'GitHub Desktop.lnk',\n",
       " 'Grammarly.lnk',\n",
       " 'HardwareScanLog_20231224_123708.html',\n",
       " 'Insurance Diptee.pdf',\n",
       " 'mbox-short.txt',\n",
       " 'Microsoft Edge.lnk',\n",
       " 'MinGW Installer.lnk',\n",
       " 'MongoDBCompass.lnk',\n",
       " 'pink pastel.docx',\n",
       " 'print.pdf',\n",
       " 'print1.pdf',\n",
       " 'Programming in C - Lecture Slides.pdf',\n",
       " 'RecForth.lnk',\n",
       " 'romeo.txt',\n",
       " 'Spotify.lnk',\n",
       " 'trial.py',\n",
       " 'Type-IV Allotment.pdf',\n",
       " 'UiPath Assistant.lnk',\n",
       " 'UiPath Studio.lnk',\n",
       " 'vintage.png',\n",
       " 'ViralVyapar.pdf',\n",
       " 'WhatsApp Image 2022-11-16 at 23.29.08.jpg',\n",
       " 'WhatsApp Image 2022-11-23 at 19.18.50.jpg',\n",
       " 'WhatsApp Image 2022-12-04 at 12.02.49.jpg',\n",
       " 'XXXXXXXXXXX2290-24-09-2022to23-10-2022.pdf',\n",
       " 'Zoom.lnk']"
      ]
     },
     "execution_count": 3,
     "metadata": {},
     "output_type": "execute_result"
    }
   ],
   "source": [
    "os.listdir(desktop_path)"
   ]
  },
  {
   "cell_type": "code",
   "execution_count": 5,
   "id": "3c88c149",
   "metadata": {},
   "outputs": [
    {
     "data": {
      "text/plain": [
       "'C:\\\\Users\\\\anany/Desktop\\\\vintage.png'"
      ]
     },
     "execution_count": 5,
     "metadata": {},
     "output_type": "execute_result"
    }
   ],
   "source": [
    "os.path.join(desktop_path,'vintage.png')"
   ]
  },
  {
   "cell_type": "code",
   "execution_count": 9,
   "id": "1c8dfcdb",
   "metadata": {},
   "outputs": [],
   "source": [
    "desktop_path = os.path.expanduser(\"~/Desktop\")\n",
    "desktop_path\n",
    "\n",
    "file_by_extension = {}\n",
    "\n",
    "for filename in os.listdir(desktop_path):\n",
    "    file_path = os.path.join(desktop_path,filename)\n",
    "    \n",
    "    if os.path.isfile(file_path):\n",
    "        file_extension = os.path.splitext(filename)[1]\n",
    "        \n",
    "        if file_extension not in file_by_extension:\n",
    "            file_by_extension[file_extension]=[]\n",
    "            \n",
    "        file_by_extension[file_extension].append(file_path)"
   ]
  },
  {
   "cell_type": "code",
   "execution_count": 10,
   "id": "43b87aeb",
   "metadata": {},
   "outputs": [
    {
     "data": {
      "text/plain": [
       "{'.pdf': ['C:\\\\Users\\\\anany/Desktop\\\\ACFrOgChOIpwkU3F3rsbbTU3eJdg6gZL4bo0izNRNMCct_Sm5ZUm_Vehy8SrxmB5mbrnsFQnunziUH9sEP45uLFEtR9CQ5F8_MMRjsY_EB4gI56E-vfBs9f_k1lMu7WwIEDA1P77aiq5rm3nRVnD.pdf',\n",
       "  'C:\\\\Users\\\\anany/Desktop\\\\Application - Diptee Verma 1.pdf',\n",
       "  'C:\\\\Users\\\\anany/Desktop\\\\Application - Diptee Verma 2.pdf',\n",
       "  'C:\\\\Users\\\\anany/Desktop\\\\Application - Diptee Verma.pdf',\n",
       "  'C:\\\\Users\\\\anany/Desktop\\\\bipt.pdf',\n",
       "  'C:\\\\Users\\\\anany/Desktop\\\\Insurance Diptee.pdf',\n",
       "  'C:\\\\Users\\\\anany/Desktop\\\\print.pdf',\n",
       "  'C:\\\\Users\\\\anany/Desktop\\\\print1.pdf',\n",
       "  'C:\\\\Users\\\\anany/Desktop\\\\Programming in C - Lecture Slides.pdf',\n",
       "  'C:\\\\Users\\\\anany/Desktop\\\\Type-IV Allotment.pdf',\n",
       "  'C:\\\\Users\\\\anany/Desktop\\\\ViralVyapar.pdf',\n",
       "  'C:\\\\Users\\\\anany/Desktop\\\\XXXXXXXXXXX2290-24-09-2022to23-10-2022.pdf'],\n",
       " '.lnk': ['C:\\\\Users\\\\anany/Desktop\\\\Ananya - Chrome.lnk',\n",
       "  'C:\\\\Users\\\\anany/Desktop\\\\Arduino IDE.lnk',\n",
       "  'C:\\\\Users\\\\anany/Desktop\\\\Bot Framework Emulator (V4).lnk',\n",
       "  'C:\\\\Users\\\\anany/Desktop\\\\Canva.lnk',\n",
       "  'C:\\\\Users\\\\anany/Desktop\\\\Downloads - Shortcut.lnk',\n",
       "  'C:\\\\Users\\\\anany/Desktop\\\\GitHub Desktop.lnk',\n",
       "  'C:\\\\Users\\\\anany/Desktop\\\\Grammarly.lnk',\n",
       "  'C:\\\\Users\\\\anany/Desktop\\\\Microsoft Edge.lnk',\n",
       "  'C:\\\\Users\\\\anany/Desktop\\\\MinGW Installer.lnk',\n",
       "  'C:\\\\Users\\\\anany/Desktop\\\\MongoDBCompass.lnk',\n",
       "  'C:\\\\Users\\\\anany/Desktop\\\\RecForth.lnk',\n",
       "  'C:\\\\Users\\\\anany/Desktop\\\\Spotify.lnk',\n",
       "  'C:\\\\Users\\\\anany/Desktop\\\\UiPath Assistant.lnk',\n",
       "  'C:\\\\Users\\\\anany/Desktop\\\\UiPath Studio.lnk',\n",
       "  'C:\\\\Users\\\\anany/Desktop\\\\Zoom.lnk'],\n",
       " '.docx': ['C:\\\\Users\\\\anany/Desktop\\\\Application - Diptee Verma.docx',\n",
       "  'C:\\\\Users\\\\anany/Desktop\\\\Application - Diptee Verma[1].docx',\n",
       "  'C:\\\\Users\\\\anany/Desktop\\\\Application_-_Diptee_Verma[1][2].docx',\n",
       "  'C:\\\\Users\\\\anany/Desktop\\\\blue pastel.docx',\n",
       "  'C:\\\\Users\\\\anany/Desktop\\\\Final paper ananya verma(1).docx',\n",
       "  'C:\\\\Users\\\\anany/Desktop\\\\pink pastel.docx'],\n",
       " '.ini': ['C:\\\\Users\\\\anany/Desktop\\\\desktop.ini'],\n",
       " '.jpg': ['C:\\\\Users\\\\anany/Desktop\\\\Diptee.jpg',\n",
       "  'C:\\\\Users\\\\anany/Desktop\\\\WhatsApp Image 2022-11-16 at 23.29.08.jpg',\n",
       "  'C:\\\\Users\\\\anany/Desktop\\\\WhatsApp Image 2022-11-23 at 19.18.50.jpg',\n",
       "  'C:\\\\Users\\\\anany/Desktop\\\\WhatsApp Image 2022-12-04 at 12.02.49.jpg'],\n",
       " '.txt': ['C:\\\\Users\\\\anany/Desktop\\\\dummytext.txt',\n",
       "  'C:\\\\Users\\\\anany/Desktop\\\\mbox-short.txt',\n",
       "  'C:\\\\Users\\\\anany/Desktop\\\\romeo.txt'],\n",
       " '.html': ['C:\\\\Users\\\\anany/Desktop\\\\HardwareScanLog_20231224_123708.html'],\n",
       " '.py': ['C:\\\\Users\\\\anany/Desktop\\\\trial.py'],\n",
       " '.png': ['C:\\\\Users\\\\anany/Desktop\\\\vintage.png']}"
      ]
     },
     "execution_count": 10,
     "metadata": {},
     "output_type": "execute_result"
    }
   ],
   "source": [
    "file_by_extension"
   ]
  },
  {
   "cell_type": "code",
   "execution_count": 13,
   "id": "f289cef4",
   "metadata": {},
   "outputs": [],
   "source": [
    "for file_extension,file_paths in file_by_extension.items():\n",
    "    folder_name = f\"{file_extension[1:].upper()} Files\"\n",
    "    folder_path = os.path.join(desktop_path,folder_name)\n",
    "    \n",
    "    \n",
    "    # Create the folder if it doesn't exist\n",
    "    if not os.path.exists(folder_path):\n",
    "        os.makedirs(folder_path)\n",
    "        \n",
    "    # Moving the files to respective folders\n",
    "    for file_path in file_paths:\n",
    "        shutil.move(file_path,folder_path)"
   ]
  }
 ],
 "metadata": {
  "kernelspec": {
   "display_name": "Python 3 (ipykernel)",
   "language": "python",
   "name": "python3"
  },
  "language_info": {
   "codemirror_mode": {
    "name": "ipython",
    "version": 3
   },
   "file_extension": ".py",
   "mimetype": "text/x-python",
   "name": "python",
   "nbconvert_exporter": "python",
   "pygments_lexer": "ipython3",
   "version": "3.9.12"
  }
 },
 "nbformat": 4,
 "nbformat_minor": 5
}
